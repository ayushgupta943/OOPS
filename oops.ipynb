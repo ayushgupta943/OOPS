{
  "nbformat": 4,
  "nbformat_minor": 0,
  "metadata": {
    "colab": {
      "provenance": []
    },
    "kernelspec": {
      "name": "python3",
      "display_name": "Python 3"
    },
    "language_info": {
      "name": "python"
    }
  },
  "cells": [
    {
      "cell_type": "markdown",
      "source": [
        "# OOPS"
      ],
      "metadata": {
        "id": "RPdoEdVS2HP8"
      }
    },
    {
      "cell_type": "markdown",
      "source": [
        "1. What is Object-Oriented Programming (OOP)?\n",
        "    -   OOP is a way of writing code where we create objects that are like real things.\n",
        "\n",
        "      Each object has:\n",
        "\n",
        "      Data (like name, color, age)\n",
        "\n",
        "      Actions (things it can do)\n",
        "\n",
        "            class Person:\n",
        "              def __init__(self, name, age):  \n",
        "                  self.name = name\n",
        "                  self.age = age\n",
        "\n",
        "              def speak(self):  \n",
        "                   print(f\"Hi, I am {self.name} and I am {self.age} years old.\")\n",
        "\n",
        "    # Creating an object (real person)\n",
        "            p1 = Person(\"Ayush\", 20)\n",
        "            p1.speak()\n",
        "\n",
        "2. What is a class in OOP?\n",
        "  -  A class is a blueprint or design to create objects.\n",
        "\n",
        "3. What is an object in OOP?\n",
        "  - An object is a real thing made from a class.\n",
        "\n",
        "  If a class is the blueprint, then the object is the actual product built using that blueprint.\n",
        "\n",
        "4. What is the difference between abstraction and encapsulation?\n",
        "  - Abstraction\n",
        "\n",
        "   1. Definition: Hides the complex implementation and shows only the essential features.\n",
        "\n",
        "   2. Purpose: To reduce complexity and increase simplicity for the user.\n",
        "\n",
        "   3. How in Python: Achieved using abstract classes and abstract methods (abc module).\n",
        "\n",
        "   4. Focus: On what an object does.\n",
        "\n",
        "   5. Example: You call .make_sound() on an animal, but you don’t know how it works inside.\n",
        "\n",
        "  -  Encapsulation\n",
        "\n",
        "   1. Definition: Bundles data (variables) and methods into a single unit (class) and restricts direct access.\n",
        "\n",
        "   2. Purpose: To protect data from accidental modification or misuse.\n",
        "\n",
        "   3. How in Python: Achieved using private (__var) and protected (_var) members.\n",
        "\n",
        "   4. Focus: On how the data is protected and accessed.\n",
        "\n",
        "   5. Example: A bank account class hides its balance variable and provides get_balance() method.\n",
        "\n",
        "5. What are dunder methods in Python?\n",
        "   - Dunder methods (short for \"Double UNDerscore\") are special methods in Python that have double underscores before and after their names, like:\n",
        "\n",
        "6. Explain the concept of inheritance in OOP?\n",
        "\n",
        "  - Inheritance is a fundamental concept in OOP where a child class (also called a subclass) can inherit properties and methods from a parent class (superclass).\n",
        "\n",
        "    It allows code reusability, extensibility, and helps create a hierarchical relationship between classes.\n",
        "\n",
        "7. What is polymorphism in OOP?\n",
        " - Polymorphism means \"many forms\" — it allows the same function name or operator to behave differently based on the object that is calling it.\n",
        "\n",
        "8. How is encapsulation achieved in Python?\n",
        "  - Encapsulation in Python is achieved by:\n",
        "\n",
        "   1.  Creating classes that wrap (bind) data and methods together.\n",
        "\n",
        "   2. Restricting direct access to variables by using access modifiers (like private/protected).\n",
        "\n",
        "   3. Providing public methods (getters/setters) to control access to private data.\n",
        "9. What is a constructor in Python?\n",
        " - A constructor in Python is a special method used to automatically initialize an object when it is created from a class.\n",
        "\n",
        "10.  What are class and static methods in Python?\n",
        " -   Class Method (@classmethod):\n",
        "\n",
        "    1. Defined using the @classmethod decorator.\n",
        "\n",
        "    2. Takes cls as the first parameter (refers to the class, not instance).\n",
        "\n",
        "    3. Can access and modify class-level data.\n",
        "\n",
        "    Syntax:\n",
        "\n",
        "          class MyClass:\n",
        "               @classmethod\n",
        "               def my_class_method(cls):\n",
        "                    # access or modify class-level data\n",
        "                  pass\n",
        "\n",
        "  - Static Method (@staticmethod):\n",
        "\n",
        "    1. Defined using the @staticmethod decorator.\n",
        "\n",
        "    2. Does not take self or cls as the first parameter.\n",
        "\n",
        "    3. Cannot access or modify class or instance data.\n",
        "\n",
        "    4. Used for utility functions related to the class.\n",
        "\n",
        "    Syntax:\n",
        "          class MyClass:\n",
        "               @staticmethod\n",
        "               def my_static_method():\n",
        "                   # no access to class or instance\n",
        "                 pass\n",
        "11. What is method overloading in Python?\n",
        "\n",
        " - Method Overloading is the ability to define multiple methods with the same name but different parameters (number or type).\n",
        "\n",
        "  But in Python:\n",
        "    \n",
        "  Python does not support traditional method overloading like Java or C++.\n",
        "\n",
        "    Instead, you can simulate overloading using:\n",
        "\n",
        "  -   Default arguments\n",
        "\n",
        "  -  Variable arguments (*args, **kwargs)\n",
        "\n",
        "  -   Type checking inside the method\n",
        "\n",
        "12.  What is method overriding in OOps?\n",
        "  - Method Overriding is a feature of inheritance in OOP where a child class provides a new implementation of a method that is already defined in its parent class with the same name, parameters, and return type.\n",
        "\n",
        "13. What is a property decorator in Python?\n",
        "  - In Python, the @property decorator is used to define a method as a property, allowing you to access it like an attribute (without parentheses), while still using method logic behind the scenes.\n",
        "\n",
        "14. Why is polymorphism important in OOP?\n",
        "  -  Polymorphism is important in Object-Oriented Programming because it allows objects of different classes to be treated as objects of a common superclass, enabling code flexibility, reusability, and maintainability.\n",
        "\n",
        "15. What is an abstract class in Python?\n",
        "  - An abstract class in Python is a class that cannot be instantiated directly and is used to define a common interface for its subclasses. It may contain abstract methods (methods without implementation) that must be implemented by child classes.\n",
        "\n",
        "16. Advantages of Object-Oriented Programming (OOP):\n",
        "\n",
        "  Modularity\n",
        "  → Code is organized into classes and objects, making it modular and manageable.\n",
        "\n",
        "  Reusability\n",
        "  → Inheritance allows you to reuse existing code in new classes.\n",
        "\n",
        "  Encapsulation\n",
        "  → Data and functions are bundled together, and internal details are hidden from the outside.\n",
        "\n",
        "  Polymorphism\n",
        "  → One interface can be used for different underlying forms (methods/functions), improving flexibility.\n",
        "\n",
        "  Maintainability\n",
        "  → OOP code is easier to update, debug, and extend due to its organized structure.\n",
        "\n",
        "  Scalability\n",
        "  → Large and complex systems can be easily scaled using OOP principles.\n",
        "\n",
        "  Data Security\n",
        "  → Access modifiers (like private, protected) restrict direct access to object data.\n",
        "\n",
        "  Real-World Modeling\n",
        "  → Objects represent real-world entities, making code easier to understand and design\n",
        "\n",
        "17. What is the difference between a class variable and an instance variable?\n",
        " - Class Variable:\n",
        "    \n",
        "   1. Shared among all instances of a class.\n",
        "\n",
        "   2. Defined inside the class but outside any method.\n",
        "\n",
        "   3. Changing it affects all objects of the class.\n",
        "\n",
        "   4. Accessed using ClassName.variable_name or instance.variable_name.\n",
        "\n",
        "   5. Used for common data across all objects.\n",
        "\n",
        " - Instance Variable:\n",
        "    \n",
        "    1. Unique to each object (instance).\n",
        "\n",
        "    2. Defined inside methods, usually __init__(), using self.\n",
        "\n",
        "    3. Changing it affects only that specific object.\n",
        "\n",
        "    4. Accessed using self.variable_name.\n",
        "\n",
        "    5. Used for object-specific data.\n",
        "\n",
        "18. What is multiple inheritance in Python?\n",
        "  -  Multiple inheritance is a feature in Python where a class can inherit from more than one parent class.\n",
        "\n",
        "            class A:\n",
        "                def display(self):\n",
        "                    print(\"Class A\")\n",
        "\n",
        "            class B:\n",
        "               def show(self):\n",
        "                    print(\"Class B\")\n",
        "\n",
        "           class C(A, B):  \n",
        "               pass\n",
        "\n",
        "            obj = C()\n",
        "            obj.display()  \n",
        "            obj.show()     \n",
        "19. Explain the purpose of ‘’__str__’ and ‘__repr__’ ‘ methods in Python\n",
        "  -  str__:\n",
        "      \n",
        "    Returns a user-friendly string representation of an object.\n",
        "\n",
        "    Called by str() and print() functions.\n",
        "\n",
        "    Meant for end users.\n",
        "\n",
        "  -  __repr__:\n",
        "\n",
        "    Returns a developer-friendly (unambiguous) string representation of an object.\n",
        "\n",
        "    Called by repr() or when object is typed in the shell.\n",
        "\n",
        "    Meant for debugging and developers.\n",
        "\n",
        "20. What is the significance of the ‘super()’ function in Python?\n",
        "  - The super() function is used to call methods from a parent (super) class in a child class.\n",
        "\n",
        "\n",
        "        class Parent:\n",
        "           def show(self):\n",
        "               print(\"Parent method\")\n",
        "\n",
        "       class Child(Parent):\n",
        "          def show(self):\n",
        "              super().show()  \n",
        "              print(\"Child method\")\n",
        "21. What is the significance of the __del__ method in Python?\n",
        "  - The __del__ method in Python is a destructor method that is automatically called when an object is about to be destroyed.\n",
        "\n",
        "  It is used to perform cleanup actions like closing files or releasing resources before the object is deleted.\n",
        "\n",
        "22.What is the difference between @staticmethod and @classmethod in Python?\n",
        " - @staticmethod\n",
        "  \n",
        "    - Does not take self or cls as the first argument.\n",
        "\n",
        "    - Cannot access or modify class or instance data.\n",
        "\n",
        "    - Used for utility functions related to the class.\n",
        "\n",
        "          @staticmethod\n",
        "          def add(a, b):\n",
        "              return a + b\n",
        "\n",
        "- @classmethod\n",
        "\n",
        "    - Takes cls as the first argument.\n",
        "\n",
        "    - Can access or modify class variables.\n",
        "\n",
        "    - Used to define alternative constructors or methods that affect the class.\n",
        "            @classmethod\n",
        "            def set_name(cls, name):\n",
        "                cls.name = name\n",
        "23. How does polymorphism work in Python with inheritance?\n",
        "  - Polymorphism in Python allows different classes to define methods with the same name, and the correct method is called based on the object’s class, especially when using inheritance.\n",
        "\n",
        "  How it works with Inheritance:\n",
        "\n",
        " - When a child class overrides a method from the parent class, and the method is called using a parent class reference, Python will execute the child class's version of the method.\n",
        "\n",
        "\n",
        "    class Animal:\n",
        "        def speak(self):\n",
        "            print(\"Animal speaks\")\n",
        "\n",
        "    class Dog(Animal):\n",
        "        def speak(self):\n",
        "            print(\"Dog barks\")\n",
        "\n",
        "    class Cat(Animal):\n",
        "        def speak(self):\n",
        "            print(\"Cat meows\")\n",
        "\n",
        "\n",
        "    def make_sound(animal):\n",
        "        animal.speak()\n",
        "\n",
        "    make_sound(Dog())  \n",
        "    make_sound(Cat())  \n",
        "\n",
        "24. What is method chaining in Python OOPs?\n",
        "  - Method chaining in Python OOP is a technique where multiple methods are called in a single line, one after another, using dot (.) notation.\n",
        "\n",
        "\n",
        "25. What is the purpose of the __call__ method in Python?\n",
        " - The __call__ method in Python allows an object to be called like a function.\n",
        "\n",
        "  Purpose:\n",
        "\n",
        "    It is used to make a class instance behave like a function, enabling function-like behavior on objects\n",
        "    \n",
        "\n",
        "    class Greet:\n",
        "        def __call__(self, name):\n",
        "            print(f\"Hello, {name}!\")\n",
        "\n",
        "    obj = Greet()\n",
        "    obj(\"Ayush\")  # Output: Hello, Ayush!\n"
      ],
      "metadata": {
        "id": "SUeuXebi3IuA"
      }
    },
    {
      "cell_type": "code",
      "source": [
        "#1.  1. Create a parent class Animal with a method speak() that prints a generic message. Create a child class Dog that overrides the speak() method to print \"Bark!\"\n",
        "\n",
        "\n",
        "class Animal:\n",
        "    def speak(self):\n",
        "        print(\"Animal makes a sound\")\n",
        "\n",
        "\n",
        "class Dog(Animal):\n",
        "    def speak(self):\n",
        "        print(\"Bark!\")\n",
        "\n",
        "\n",
        "a = Animal()\n",
        "a.speak()\n",
        "\n",
        "d = Dog()\n",
        "d.speak()\n"
      ],
      "metadata": {
        "colab": {
          "base_uri": "https://localhost:8080/"
        },
        "id": "rAOLW2LfK4dr",
        "outputId": "997d2a60-067a-48ef-e758-b3dfcec90f79"
      },
      "execution_count": 24,
      "outputs": [
        {
          "output_type": "stream",
          "name": "stdout",
          "text": [
            "Animal makes a sound\n",
            "Bark!\n"
          ]
        }
      ]
    },
    {
      "cell_type": "code",
      "source": [
        "#2.  Write a program to create an abstract class Shape with a method area(). Derive classes Circle and Rectangle from it and implement the area() method in both\n",
        "from abc import ABC, abstractmethod\n",
        "\n",
        "\n",
        "class Shape(ABC):\n",
        "    @abstractmethod\n",
        "    def area(self):\n",
        "        pass\n",
        "\n",
        "\n",
        "class Circle(Shape):\n",
        "    def __init__(self, radius):\n",
        "        self.radius = radius\n",
        "\n",
        "    def area(self):\n",
        "        return 3.14 * self.radius * self.radius\n",
        "\n",
        "class Rectangle(Shape):\n",
        "    def __init__(self, length, width):\n",
        "        self.length = length\n",
        "        self.width = width\n",
        "\n",
        "    def area(self):\n",
        "        return self.length * self.width\n",
        "\n",
        "\n",
        "c = Circle(5)\n",
        "r = Rectangle(4, 6)\n",
        "\n",
        "print(\"Area of Circle:\", c.area())\n",
        "print(\"Area of Rectangle:\", r.area())\n"
      ],
      "metadata": {
        "colab": {
          "base_uri": "https://localhost:8080/"
        },
        "id": "UQHED_WwLv1T",
        "outputId": "e700a0bf-6492-4c03-9672-7f1587b63de6"
      },
      "execution_count": 26,
      "outputs": [
        {
          "output_type": "stream",
          "name": "stdout",
          "text": [
            "Area of Circle: 78.5\n",
            "Area of Rectangle: 24\n"
          ]
        }
      ]
    },
    {
      "cell_type": "code",
      "source": [
        "#3. . Implement a multi-level inheritance scenario where a class Vehicle has an attribute type. Derive a class Car and further derive a class ElectricCar that adds a battery attribute.\n",
        "\n",
        "class Vehicle:\n",
        "    def __init__(self, vehicle_type):\n",
        "        self.type = vehicle_type\n",
        "\n",
        "\n",
        "class Car(Vehicle):\n",
        "    def __init__(self, vehicle_type, brand):\n",
        "        super().__init__(vehicle_type)\n",
        "        self.brand = brand\n",
        "\n",
        "class ElectricCar(Car):\n",
        "    def __init__(self, vehicle_type, brand, battery):\n",
        "        super().__init__(vehicle_type, brand)\n",
        "        self.battery = battery\n",
        "\n",
        "    def display_info(self):\n",
        "        print(\"Type:\", self.type)\n",
        "        print(\"Brand:\", self.brand)\n",
        "        print(\"Battery:\", self.battery)\n",
        "\n",
        "\n",
        "e_car = ElectricCar(\"Electric Vehicle\", \"Tesla\", \"85 kWh\")\n",
        "e_car.display_info()\n"
      ],
      "metadata": {
        "colab": {
          "base_uri": "https://localhost:8080/"
        },
        "id": "juZlX3SIMdEC",
        "outputId": "39ef8734-ad4b-4072-d0bd-add86c59dbf6"
      },
      "execution_count": 28,
      "outputs": [
        {
          "output_type": "stream",
          "name": "stdout",
          "text": [
            "Type: Electric Vehicle\n",
            "Brand: Tesla\n",
            "Battery: 85 kWh\n"
          ]
        }
      ]
    },
    {
      "cell_type": "code",
      "source": [
        "#4. Demonstrate polymorphism by creating a base class Bird with a method fly(). Create two derived classes Sparrow and Penguin that override the fly() method.\n",
        "\n",
        "class Bird:\n",
        "    def fly(self):\n",
        "        print(\"Bird is flying\")\n",
        "\n",
        "class Sparrow(Bird):\n",
        "    def fly(self):\n",
        "        print(\"Sparrow flies high in the sky\")\n",
        "\n",
        "class Penguin(Bird):\n",
        "    def fly(self):\n",
        "        print(\"Penguin cannot fly\")\n",
        "\n",
        "\n",
        "def show_flight(bird):\n",
        "    bird.fly()\n",
        "\n",
        "\n",
        "b1 = Sparrow()\n",
        "b2 = Penguin()\n",
        "\n",
        "show_flight(b1)\n",
        "show_flight(b2)\n"
      ],
      "metadata": {
        "colab": {
          "base_uri": "https://localhost:8080/"
        },
        "id": "ATK3rCFRTZPa",
        "outputId": "561f98ad-aa10-4e76-b692-7840ec7d3450"
      },
      "execution_count": 29,
      "outputs": [
        {
          "output_type": "stream",
          "name": "stdout",
          "text": [
            "Sparrow flies high in the sky\n",
            "Penguin cannot fly\n"
          ]
        }
      ]
    },
    {
      "cell_type": "code",
      "source": [
        "#5  Write a program to demonstrate encapsulation by creating a class BankAccount with private attributes balance and methods to deposit, withdraw, and check balance.\n",
        "\n",
        "class BankAccount:\n",
        "    def __init__(self, initial_balance):\n",
        "        self.__balance = initial_balance  # Private attribute\n",
        "\n",
        "\n",
        "    def deposit(self, amount):\n",
        "        if amount > 0:\n",
        "            self.__balance += amount\n",
        "            print(f\"Deposited: {amount}\")\n",
        "        else:\n",
        "            print(\"Invalid deposit amount\")\n",
        "\n",
        "    def withdraw(self, amount):\n",
        "        if 0 < amount <= self.__balance:\n",
        "            self.__balance -= amount\n",
        "            print(f\"Withdrawn: {amount}\")\n",
        "        else:\n",
        "            print(\"Insufficient balance or invalid amount\")\n",
        "\n",
        "\n",
        "    def check_balance(self):\n",
        "        print(f\"Current Balance: {self.__balance}\")\n",
        "\n",
        "\n",
        "account = BankAccount(1000)\n",
        "account.check_balance()\n",
        "account.deposit(500)\n",
        "account.withdraw(300)\n",
        "account.check_balance()\n"
      ],
      "metadata": {
        "colab": {
          "base_uri": "https://localhost:8080/"
        },
        "id": "LeyJpAnuT4d7",
        "outputId": "35e193f6-90db-4739-f2a0-e842dc067a2b"
      },
      "execution_count": 30,
      "outputs": [
        {
          "output_type": "stream",
          "name": "stdout",
          "text": [
            "Current Balance: 1000\n",
            "Deposited: 500\n",
            "Withdrawn: 300\n",
            "Current Balance: 1200\n"
          ]
        }
      ]
    },
    {
      "cell_type": "code",
      "source": [
        "#6 Demonstrate runtime polymorphism using a method play() in a base class Instrument. Derive classes Guitar and Piano that implement their own version of play().\n",
        "\n",
        "class Instrument:\n",
        "    def play(self):\n",
        "        print(\"Playing an instrument\")\n",
        "\n",
        "class Guitar(Instrument):\n",
        "    def play(self):\n",
        "        print(\"Strumming the guitar\")\n",
        "\n",
        "\n",
        "class Piano(Instrument):\n",
        "    def play(self):\n",
        "        print(\"Playing the piano\")\n",
        "\n",
        "\n",
        "def perform(instrument):\n",
        "    instrument.play()\n",
        "\n",
        "\n",
        "i1 = Guitar()\n",
        "i2 = Piano()\n",
        "\n",
        "perform(i1)\n",
        "perform(i2)\n"
      ],
      "metadata": {
        "colab": {
          "base_uri": "https://localhost:8080/"
        },
        "id": "u2CbpReXUGO8",
        "outputId": "30c6ec9e-17a2-4710-d65f-d689505a55fe"
      },
      "execution_count": 31,
      "outputs": [
        {
          "output_type": "stream",
          "name": "stdout",
          "text": [
            "Strumming the guitar\n",
            "Playing the piano\n"
          ]
        }
      ]
    },
    {
      "cell_type": "code",
      "source": [
        "#7.Create a class MathOperations with a class method add_numbers() to add two numbers and a static method subtract_numbers() to subtract two numbers.\n",
        "class MathOperations:\n",
        "\n",
        "    @classmethod\n",
        "    def add_numbers(cls, a, b):\n",
        "        return a + b\n",
        "\n",
        "\n",
        "    @staticmethod\n",
        "    def subtract_numbers(a, b):\n",
        "        return a - b\n",
        "\n",
        "print(\"Addition:\", MathOperations.add_numbers(10, 5))\n",
        "print(\"Subtraction:\", MathOperations.subtract_numbers(10, 5))\n"
      ],
      "metadata": {
        "colab": {
          "base_uri": "https://localhost:8080/"
        },
        "id": "vVH2E-o8UhX4",
        "outputId": "58d9331f-2aa3-4126-ea8c-b020e1c190a1"
      },
      "execution_count": 32,
      "outputs": [
        {
          "output_type": "stream",
          "name": "stdout",
          "text": [
            "Addition: 15\n",
            "Subtraction: 5\n"
          ]
        }
      ]
    },
    {
      "cell_type": "code",
      "source": [
        "#8.  Implement a class Person with a class method to count the total number of persons created\n",
        "class Person:\n",
        "    count = 0\n",
        "    def __init__(self, name):\n",
        "        self.name = name\n",
        "        Person.count += 1\n",
        "\n",
        "    @classmethod\n",
        "    def total_persons(cls):\n",
        "        return cls.count\n",
        "\n",
        "\n",
        "p1 = Person(\"Alice\")\n",
        "p2 = Person(\"Bob\")\n",
        "p3 = Person(\"Charlie\")\n",
        "\n",
        "print(\"Total Persons Created:\", Person.total_persons())\n"
      ],
      "metadata": {
        "colab": {
          "base_uri": "https://localhost:8080/"
        },
        "id": "JImorFlWUz94",
        "outputId": "977403d6-d2bf-448a-935f-ddd6d0139659"
      },
      "execution_count": 33,
      "outputs": [
        {
          "output_type": "stream",
          "name": "stdout",
          "text": [
            "Total Persons Created: 3\n"
          ]
        }
      ]
    },
    {
      "cell_type": "code",
      "source": [
        "#9.Write a class Fraction with attributes numerator and denominator. Override the str method to display the fraction as \"numerator/denominator\".\n",
        "class Fraction:\n",
        "    def __init__(self, numerator, denominator):\n",
        "        self.numerator = numerator\n",
        "        self.denominator = denominator\n",
        "\n",
        "    def __str__(self):\n",
        "        return f\"{self.numerator}/{self.denominator}\"\n",
        "\n",
        "f1 = Fraction(3, 4)\n",
        "f2 = Fraction(5, 8)\n",
        "\n",
        "print(f1)\n",
        "print(f2)\n"
      ],
      "metadata": {
        "colab": {
          "base_uri": "https://localhost:8080/"
        },
        "id": "tMWb6DYzU_P8",
        "outputId": "5173fb4a-a504-4bbd-f347-5c708e8c3cef"
      },
      "execution_count": 34,
      "outputs": [
        {
          "output_type": "stream",
          "name": "stdout",
          "text": [
            "3/4\n",
            "5/8\n"
          ]
        }
      ]
    },
    {
      "cell_type": "code",
      "source": [
        "#10. Demonstrate operator overloading by creating a class Vector and overriding the add method to add two vectors.\n",
        "class Vector:\n",
        "    def __init__(self, x, y):\n",
        "        self.x = x\n",
        "        self.y = y\n",
        "\n",
        "\n",
        "    def __add__(self, other):\n",
        "        return Vector(self.x + other.x, self.y + other.y)\n",
        "\n",
        "    def __str__(self):\n",
        "        return f\"Vector({self.x}, {self.y})\"\n",
        "\n",
        "\n",
        "v1 = Vector(2, 3)\n",
        "v2 = Vector(4, 5)\n",
        "\n",
        "v3 = v1 + v2\n",
        "print(v3)\n"
      ],
      "metadata": {
        "colab": {
          "base_uri": "https://localhost:8080/"
        },
        "id": "zzzKZtq0VSch",
        "outputId": "29b042de-5e86-459f-d2b0-85bf64596f58"
      },
      "execution_count": 35,
      "outputs": [
        {
          "output_type": "stream",
          "name": "stdout",
          "text": [
            "Vector(6, 8)\n"
          ]
        }
      ]
    },
    {
      "cell_type": "code",
      "source": [
        "#11.  Create a class Person with attributes name and age. Add a method greet() that prints \"Hello, my name is {name} and I am {age} years old.\"\n",
        "class Person:\n",
        "    def __init__(self, name, age):\n",
        "        self.name = name\n",
        "        self.age = age\n",
        "\n",
        "    def greet(self):\n",
        "        print(f\"Hello, my name is {self.name} and I am {self.age} years old.\")\n",
        "\n",
        "\n",
        "p1 = Person(\"Ayush\", 25)\n",
        "p1.greet()\n"
      ],
      "metadata": {
        "colab": {
          "base_uri": "https://localhost:8080/"
        },
        "id": "DM8DvREIVpEb",
        "outputId": "3596b50a-da3c-4727-d57b-2382633911ff"
      },
      "execution_count": 36,
      "outputs": [
        {
          "output_type": "stream",
          "name": "stdout",
          "text": [
            "Hello, my name is Ayush and I am 25 years old.\n"
          ]
        }
      ]
    },
    {
      "cell_type": "code",
      "source": [
        "#12. . Implement a class Student with attributes name and grades. Create a method average_grade() to compute the average of the grades.\n",
        "class Student:\n",
        "    def __init__(self, name, grades):\n",
        "        self.name = name\n",
        "        self.grades = grades\n",
        "\n",
        "    def average_grade(self):\n",
        "        if len(self.grades) == 0:\n",
        "            return 0\n",
        "        return sum(self.grades) / len(self.grades)\n",
        "\n",
        "s1 = Student(\"ayush\", [85, 90, 78, 92])\n",
        "print(f\"{s1.name}'s Average Grade:\", s1.average_grade())\n"
      ],
      "metadata": {
        "colab": {
          "base_uri": "https://localhost:8080/"
        },
        "id": "mjM_aBQ1V4-a",
        "outputId": "4051dbc6-7219-4927-b352-046952ed93c4"
      },
      "execution_count": 37,
      "outputs": [
        {
          "output_type": "stream",
          "name": "stdout",
          "text": [
            "ayush's Average Grade: 86.25\n"
          ]
        }
      ]
    },
    {
      "cell_type": "code",
      "source": [
        "#13.Create a class Rectangle with methods set_dimensions() to set the dimensions and area() to calculate the area.\n",
        "class Rectangle:\n",
        "    def __init__(self):\n",
        "        self.length = 0\n",
        "        self.width = 0\n",
        "\n",
        "    def set_dimensions(self, length, width):\n",
        "        self.length = length\n",
        "        self.width = width\n",
        "\n",
        "    def area(self):\n",
        "        return self.length * self.width\n",
        "\n",
        "rect = Rectangle()\n",
        "rect.set_dimensions(5, 4)\n",
        "print(\"Area of Rectangle:\", rect.area())\n"
      ],
      "metadata": {
        "colab": {
          "base_uri": "https://localhost:8080/"
        },
        "id": "sBFi2LKJWKbP",
        "outputId": "ba8e47ad-2507-4b90-a9f3-054365b7948e"
      },
      "execution_count": 38,
      "outputs": [
        {
          "output_type": "stream",
          "name": "stdout",
          "text": [
            "Area of Rectangle: 20\n"
          ]
        }
      ]
    },
    {
      "cell_type": "code",
      "source": [
        "#14. Create a class Employee with a method calculate_salary() that computes the salary based on hours worked and hourly rate. Create a derived class Manager that adds a bonus to the salary\n",
        "\n",
        "class Employee:\n",
        "    def __init__(self, name, hours_worked, hourly_rate):\n",
        "        self.name = name\n",
        "        self.hours_worked = hours_worked\n",
        "        self.hourly_rate = hourly_rate\n",
        "\n",
        "    def calculate_salary(self):\n",
        "        return self.hours_worked * self.hourly_rate\n",
        "\n",
        "class Manager(Employee):\n",
        "    def __init__(self, name, hours_worked, hourly_rate, bonus):\n",
        "        super().__init__(name, hours_worked, hourly_rate)\n",
        "        self.bonus = bonus\n",
        "\n",
        "    def calculate_salary(self):\n",
        "        base_salary = super().calculate_salary()\n",
        "        return base_salary + self.bonus\n",
        "\n",
        "\n",
        "emp = Employee(\"Alice\", 40, 20)\n",
        "mgr = Manager(\"Bob\", 40, 30, 500)\n",
        "\n",
        "print(f\"{emp.name}'s Salary: ${emp.calculate_salary()}\")\n",
        "print(f\"{mgr.name}'s Salary: ${mgr.calculate_salary()}\")\n"
      ],
      "metadata": {
        "colab": {
          "base_uri": "https://localhost:8080/"
        },
        "id": "1OnXXndvWrL8",
        "outputId": "486265b3-8c98-4a60-fd95-ed7ae0ce912a"
      },
      "execution_count": 39,
      "outputs": [
        {
          "output_type": "stream",
          "name": "stdout",
          "text": [
            "Alice's Salary: $800\n",
            "Bob's Salary: $1700\n"
          ]
        }
      ]
    },
    {
      "cell_type": "code",
      "source": [
        "#15.  Create a class Product with attributes name, price, and quantity. Implement a method total_price() that calculates the total price of the product.\n",
        "class Product:\n",
        "    def __init__(self, name, price, quantity):\n",
        "        self.name = name\n",
        "        self.price = price\n",
        "        self.quantity = quantity\n",
        "\n",
        "    def total_price(self):\n",
        "        return self.price * self.quantity\n",
        "\n",
        "\n",
        "p1 = Product(\"Laptop\", 50000, 2)\n",
        "print(f\"Total price for {p1.name}: ₹{p1.total_price()}\")"
      ],
      "metadata": {
        "colab": {
          "base_uri": "https://localhost:8080/"
        },
        "id": "3SRbs-lIXMco",
        "outputId": "1dd94b50-0866-44c9-d9e9-b1ee29b1f858"
      },
      "execution_count": 40,
      "outputs": [
        {
          "output_type": "stream",
          "name": "stdout",
          "text": [
            "Total price for Laptop: ₹100000\n"
          ]
        }
      ]
    },
    {
      "cell_type": "code",
      "source": [
        "#16. Create a class Animal with an abstract method sound(). Create two derived classes Cow and Sheep that implement the sound() method.\n",
        "from abc import ABC, abstractmethod\n",
        "\n",
        "class Animal(ABC):\n",
        "    @abstractmethod\n",
        "    def sound(self):\n",
        "        pass\n",
        "\n",
        "\n",
        "class Cow(Animal):\n",
        "    def sound(self):\n",
        "        return \"Moo\"\n",
        "\n",
        "\n",
        "class Sheep(Animal):\n",
        "    def sound(self):\n",
        "        return \"Baa\"\n",
        "\n",
        "cow = Cow()\n",
        "sheep = Sheep()\n",
        "\n",
        "print(\"Cow sound:\", cow.sound())\n",
        "print(\"Sheep sound:\", sheep.sound())\n"
      ],
      "metadata": {
        "colab": {
          "base_uri": "https://localhost:8080/"
        },
        "id": "Z_SSThjTXdel",
        "outputId": "be196c97-4a78-465f-c53b-e58d2ff015ab"
      },
      "execution_count": 41,
      "outputs": [
        {
          "output_type": "stream",
          "name": "stdout",
          "text": [
            "Cow sound: Moo\n",
            "Sheep sound: Baa\n"
          ]
        }
      ]
    },
    {
      "cell_type": "code",
      "source": [
        "#17. Create a class Book with attributes title, author, and year_published. Add a method get_book_info() that returns a formatted string with the book's details.\n",
        "class Book:\n",
        "    def __init__(self, title, author, year_published):\n",
        "        self.title = title\n",
        "        self.author = author\n",
        "        self.year_published = year_published\n",
        "\n",
        "    def get_book_info(self):\n",
        "        return f\"'{self.title}' by {self.author}, published in {self.year_published}\"\n",
        "\n",
        "\n",
        "book1 = Book(\"To Kill a Mockingbird\", \"Harper Lee\", 1960)\n",
        "print(book1.get_book_info())\n"
      ],
      "metadata": {
        "colab": {
          "base_uri": "https://localhost:8080/"
        },
        "id": "gC6H2_NKXosO",
        "outputId": "a793386d-1f5e-48f3-c55c-83bbe7961952"
      },
      "execution_count": 42,
      "outputs": [
        {
          "output_type": "stream",
          "name": "stdout",
          "text": [
            "'To Kill a Mockingbird' by Harper Lee, published in 1960\n"
          ]
        }
      ]
    },
    {
      "cell_type": "code",
      "source": [
        "#18. Create a class House with attributes address and price. Create a derived class Mansion that adds an attribute number_of_rooms\n",
        "\n",
        "class House:\n",
        "    def __init__(self, address, price):\n",
        "        self.address = address\n",
        "        self.price = price\n",
        "\n",
        "class Mansion(House):\n",
        "    def __init__(self, address, price, number_of_rooms):\n",
        "        super().__init__(address, price)\n",
        "        self.number_of_rooms = number_of_rooms\n",
        "\n",
        "    def display_info(self):\n",
        "        print(f\"Address: {self.address}\")\n",
        "        print(f\"Price: ₹{self.price}\")\n",
        "        print(f\"Number of Rooms: {self.number_of_rooms}\")\n",
        "\n",
        "\n",
        "m = Mansion(\"123 Luxury Street\", 50000000, 10)\n",
        "m.display_info()\n",
        "\n",
        "\n"
      ],
      "metadata": {
        "colab": {
          "base_uri": "https://localhost:8080/"
        },
        "id": "IlLVN9zfX34D",
        "outputId": "94749198-0e73-4da1-b2c4-63d5b1832707"
      },
      "execution_count": 43,
      "outputs": [
        {
          "output_type": "stream",
          "name": "stdout",
          "text": [
            "Address: 123 Luxury Street\n",
            "Price: ₹50000000\n",
            "Number of Rooms: 10\n"
          ]
        }
      ]
    }
  ]
}